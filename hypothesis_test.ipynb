{
 "cells": [
  {
   "cell_type": "code",
   "execution_count": 15,
   "id": "e2e2ff53-6e34-466c-b07a-fe4cc01aaada",
   "metadata": {},
   "outputs": [],
   "source": [
    "from scipy.stats import ttest_ind, levene\n",
    "import pandas as pd\n",
    "\n",
    "def prepare_returns(df):\n",
    "    # Считаем доходности (pct_change) для каждой акции (security_id)\n",
    "    df = df.sort_values(['security_id', 'date'])\n",
    "    df['returns'] = df.groupby('security_id')['price_usd'].pct_change()\n",
    "    return df\n",
    "\n",
    "def test_hypotheses_for_stocks(df, security1, security2):\n",
    "    df = prepare_returns(df)\n",
    "\n",
    "    returns_1 = df[df['security_id'] == security1]['returns'].dropna()\n",
    "    returns_2 = df[df['security_id'] == security2]['returns'].dropna()\n",
    "\n",
    "    # Тест равенства дисперсий (Левена)\n",
    "    stat_levene, p_levene = levene(returns_1, returns_2)\n",
    "\n",
    "    # Тест равенства средних (t-test)\n",
    "    stat_ttest, p_ttest = ttest_ind(returns_1, returns_2, equal_var=(p_levene > 0.05))\n",
    "\n",
    "    print(f\"Levene test: stat={stat_levene:.4f}, p={p_levene:.4f}\")\n",
    "    print(f\"T-test: stat={stat_ttest:.4f}, p={p_ttest:.4f}\")\n",
    "\n",
    "    if p_levene < 0.05:\n",
    "        print(\"Дисперсии статистически различаются.\")\n",
    "    else:\n",
    "        print(\"Дисперсии не различаются.\")\n",
    "\n",
    "    if p_ttest < 0.05:\n",
    "        print(\"Средние статистически различаются.\")\n",
    "    else:\n",
    "        print(\"Средние не различаются.\")"
   ]
  },
  {
   "cell_type": "code",
   "execution_count": 17,
   "id": "e5d75c17-cb8b-498f-a90a-56c12ee8ce64",
   "metadata": {},
   "outputs": [
    {
     "name": "stdout",
     "output_type": "stream",
     "text": [
      "   security_id        date   price_usd\n",
      "0            3  2024-07-04    0.196130\n",
      "1            4  2024-07-04  111.721531\n",
      "2           10  2024-07-04  108.451159\n",
      "3            1  2024-07-07   93.660000\n",
      "4            2  2024-07-07   39.490000\n",
      "5           10  2024-07-07  101.270000\n",
      "6            1  2024-07-10   93.010000\n",
      "7            4  2024-07-10  111.165185\n",
      "8            5  2024-07-10    0.563314\n",
      "9            9  2024-07-10   97.030000\n",
      "[ 3  4 10  1  2  5  9  7  6  8]\n"
     ]
    }
   ],
   "source": [
    "print(df[['security_id', 'date', 'price_usd']].head(10))\n",
    "print(df['security_id'].unique())"
   ]
  },
  {
   "cell_type": "code",
   "execution_count": 19,
   "id": "2a684caf-9c70-4477-8f5d-de58bc4ac191",
   "metadata": {},
   "outputs": [
    {
     "name": "stdout",
     "output_type": "stream",
     "text": [
      "     security_id        date  price_usd\n",
      "3              1  2024-07-07      93.66\n",
      "6              1  2024-07-10      93.01\n",
      "16             1  2024-07-17      95.74\n",
      "20             1  2024-07-28      91.67\n",
      "26             1  2024-07-31      93.65\n",
      "34             1  2024-08-16      92.84\n",
      "39             1  2024-08-22      91.46\n",
      "40             1  2024-08-29      90.66\n",
      "50             1  2024-09-12      94.45\n",
      "58             1  2024-10-06      94.55\n",
      "65             1  2024-10-26      92.73\n",
      "72             1  2024-11-05      92.20\n",
      "73             1  2024-11-08      90.21\n",
      "88             1  2024-12-01      91.61\n",
      "108            1  2024-12-30      95.18\n",
      "132            1  2025-01-31      96.78\n",
      "140            1  2025-02-11      98.43\n",
      "142            1  2025-02-12      97.60\n",
      "145            1  2025-02-15      98.89\n",
      "158            1  2025-03-05     100.59\n"
     ]
    }
   ],
   "source": [
    "df_subset = df[['security_id', 'date', 'price_usd']].sort_values(['security_id', 'date'])\n",
    "print(df_subset.head(20))  # посмотри на данные цен по security_id и дате"
   ]
  },
  {
   "cell_type": "code",
   "execution_count": 21,
   "id": "bd72fd5b-e0b8-450c-be0a-502ce8b95a8e",
   "metadata": {},
   "outputs": [
    {
     "name": "stdout",
     "output_type": "stream",
     "text": [
      "[ 3  4 10  1  2  5  9  7  6  8]\n"
     ]
    }
   ],
   "source": [
    "print(df['security_id'].unique())"
   ]
  },
  {
   "cell_type": "code",
   "execution_count": 23,
   "id": "8eff1164-df7b-42d4-bc14-c7e5da8924ec",
   "metadata": {},
   "outputs": [
    {
     "name": "stdout",
     "output_type": "stream",
     "text": [
      "     security_id        date  price_usd   returns\n",
      "3              1  2024-07-07      93.66       NaN\n",
      "6              1  2024-07-10      93.01 -0.006940\n",
      "16             1  2024-07-17      95.74  0.029352\n",
      "20             1  2024-07-28      91.67 -0.042511\n",
      "26             1  2024-07-31      93.65  0.021599\n",
      "34             1  2024-08-16      92.84 -0.008649\n",
      "39             1  2024-08-22      91.46 -0.014864\n",
      "40             1  2024-08-29      90.66 -0.008747\n",
      "50             1  2024-09-12      94.45  0.041805\n",
      "58             1  2024-10-06      94.55  0.001059\n",
      "65             1  2024-10-26      92.73 -0.019249\n",
      "72             1  2024-11-05      92.20 -0.005716\n",
      "73             1  2024-11-08      90.21 -0.021584\n",
      "88             1  2024-12-01      91.61  0.015519\n",
      "108            1  2024-12-30      95.18  0.038970\n",
      "132            1  2025-01-31      96.78  0.016810\n",
      "140            1  2025-02-11      98.43  0.017049\n",
      "142            1  2025-02-12      97.60 -0.008432\n",
      "145            1  2025-02-15      98.89  0.013217\n",
      "158            1  2025-03-05     100.59  0.017191\n"
     ]
    }
   ],
   "source": [
    "df_returns = df_subset.copy()\n",
    "df_returns['returns'] = df_returns.groupby('security_id')['price_usd'].pct_change()\n",
    "print(df_returns.head(20))"
   ]
  },
  {
   "cell_type": "code",
   "execution_count": null,
   "id": "6d07b907-14ed-4df3-a9da-04402c3fa131",
   "metadata": {},
   "outputs": [],
   "source": []
  }
 ],
 "metadata": {
  "kernelspec": {
   "display_name": "Python 3 (ipykernel)",
   "language": "python",
   "name": "python3"
  },
  "language_info": {
   "codemirror_mode": {
    "name": "ipython",
    "version": 3
   },
   "file_extension": ".py",
   "mimetype": "text/x-python",
   "name": "python",
   "nbconvert_exporter": "python",
   "pygments_lexer": "ipython3",
   "version": "3.12.4"
  }
 },
 "nbformat": 4,
 "nbformat_minor": 5
}
