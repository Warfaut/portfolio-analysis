{
 "cells": [
  {
   "cell_type": "code",
   "execution_count": 15,
   "id": "e2e2ff53-6e34-466c-b07a-fe4cc01aaada",
   "metadata": {},
   "outputs": [],
   "source": [
    "from scipy.stats import ttest_ind, levene\n",
    "import pandas as pd\n",
    "\n",
    "def prepare_returns(df):\n",
    "    # Считаем доходности (pct_change) для каждой акции (security_id)\n",
    "    df = df.sort_values(['security_id', 'date'])\n",
    "    df['returns'] = df.groupby('security_id')['price_usd'].pct_change()\n",
    "    return df\n",
    "\n",
    "def test_hypotheses_for_stocks(df, security1, security2):\n",
    "    df = prepare_returns(df)\n",
    "\n",
    "    returns_1 = df[df['security_id'] == security1]['returns'].dropna()\n",
    "    returns_2 = df[df['security_id'] == security2]['returns'].dropna()\n",
    "\n",
    "    # Тест равенства дисперсий (Левена)\n",
    "    stat_levene, p_levene = levene(returns_1, returns_2)\n",
    "\n",
    "    # Тест равенства средних (t-test)\n",
    "    stat_ttest, p_ttest = ttest_ind(returns_1, returns_2, equal_var=(p_levene > 0.05))\n",
    "\n",
    "    print(f\"Levene test: stat={stat_levene:.4f}, p={p_levene:.4f}\")\n",
    "    print(f\"T-test: stat={stat_ttest:.4f}, p={p_ttest:.4f}\")\n",
    "\n",
    "    if p_levene < 0.05:\n",
    "        print(\"Дисперсии статистически различаются.\")\n",
    "    else:\n",
    "        print(\"Дисперсии не различаются.\")\n",
    "\n",
    "    if p_ttest < 0.05:\n",
    "        print(\"Средние статистически различаются.\")\n",
    "    else:\n",
    "        print(\"Средние не различаются.\")"
   ]
  },
  {
   "cell_type": "code",
   "execution_count": null,
   "id": "e5d75c17-cb8b-498f-a90a-56c12ee8ce64",
   "metadata": {},
   "outputs": [],
   "source": []
  }
 ],
 "metadata": {
  "kernelspec": {
   "display_name": "Python 3 (ipykernel)",
   "language": "python",
   "name": "python3"
  },
  "language_info": {
   "codemirror_mode": {
    "name": "ipython",
    "version": 3
   },
   "file_extension": ".py",
   "mimetype": "text/x-python",
   "name": "python",
   "nbconvert_exporter": "python",
   "pygments_lexer": "ipython3",
   "version": "3.12.4"
  }
 },
 "nbformat": 4,
 "nbformat_minor": 5
}
