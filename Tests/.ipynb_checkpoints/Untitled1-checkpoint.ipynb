{
 "cells": [
  {
   "cell_type": "code",
   "execution_count": 1,
   "id": "4495dca2-4437-460c-b7fb-2b6e6518dad9",
   "metadata": {},
   "outputs": [
    {
     "ename": "ModuleNotFoundError",
     "evalue": "No module named 'hypothesis_test'",
     "output_type": "error",
     "traceback": [
      "\u001b[0;31m---------------------------------------------------------------------------\u001b[0m",
      "\u001b[0;31mModuleNotFoundError\u001b[0m                       Traceback (most recent call last)",
      "Cell \u001b[0;32mIn[1], line 3\u001b[0m\n\u001b[1;32m      1\u001b[0m \u001b[38;5;28;01mimport\u001b[39;00m \u001b[38;5;21;01munittest\u001b[39;00m\n\u001b[1;32m      2\u001b[0m \u001b[38;5;28;01mimport\u001b[39;00m \u001b[38;5;21;01mpandas\u001b[39;00m \u001b[38;5;28;01mas\u001b[39;00m \u001b[38;5;21;01mpd\u001b[39;00m\n\u001b[0;32m----> 3\u001b[0m \u001b[38;5;28;01mfrom\u001b[39;00m \u001b[38;5;21;01mhypothesis_test\u001b[39;00m \u001b[38;5;28;01mimport\u001b[39;00m test_hypotheses_for_stocks\n\u001b[1;32m      5\u001b[0m \u001b[38;5;28;01mclass\u001b[39;00m \u001b[38;5;21;01mTestHypothesis\u001b[39;00m(unittest\u001b[38;5;241m.\u001b[39mTestCase):\n\u001b[1;32m      7\u001b[0m     \u001b[38;5;28;01mdef\u001b[39;00m \u001b[38;5;21msetUp\u001b[39m(\u001b[38;5;28mself\u001b[39m):\n\u001b[1;32m      8\u001b[0m         \u001b[38;5;66;03m# Создаём искусственный датафрейм с доходностями для двух security_id\u001b[39;00m\n",
      "\u001b[0;31mModuleNotFoundError\u001b[0m: No module named 'hypothesis_test'"
     ]
    }
   ],
   "source": [
    "import unittest\n",
    "import pandas as pd\n",
    "from hypothesis_test import test_hypotheses_for_stocks\n",
    "\n",
    "class TestHypothesis(unittest.TestCase):\n",
    "\n",
    "    def setUp(self):\n",
    "        # Создаём искусственный датафрейм с доходностями для двух security_id\n",
    "        data = {\n",
    "            'security_id': [1]*10 + [2]*10,\n",
    "            'date': pd.date_range('2024-01-01', periods=10).tolist()*2,\n",
    "            'price_usd': list(range(10, 20)) + list(range(20, 30))\n",
    "        }\n",
    "        self.df = pd.DataFrame(data)\n",
    "\n",
    "    def test_equal_means_variances(self):\n",
    "        # Тест для выборок с одинаковыми средними и дисперсиями\n",
    "        # Смещаем вторую выборку так, чтобы средние были одинаковы\n",
    "        self.df.loc[self.df['security_id'] == 2, 'price_usd'] = range(10, 20)\n",
    "        # Запускаем функцию — проверяем, что тест не говорит о различиях\n",
    "        test_hypotheses_for_stocks(self.df, 1, 2)  # Просто вызов — вывод в консоль\n",
    "\n",
    "    def test_different_means(self):\n",
    "        # Смещаем вторую выборку, чтобы средние были разными\n",
    "        self.df.loc[self.df['security_id'] == 2, 'price_usd'] = range(20, 30)\n",
    "        # Запускаем функцию — вывод в консоль с различиями\n",
    "        test_hypotheses_for_stocks(self.df, 1, 2)\n",
    "\n",
    "    def test_empty_sample(self):\n",
    "        # Проверяем обработку пустой выборки\n",
    "        empty_df = self.df[self.df['security_id'] == 1].copy()\n",
    "        # Запускаем тест с пустой второй выборкой\n",
    "        test_hypotheses_for_stocks(empty_df, 1, 99)  # 99 — несуществующий id\n",
    "\n",
    "if __name__ == \"__main__\":\n",
    "    unittest.main()"
   ]
  },
  {
   "cell_type": "code",
   "execution_count": null,
   "id": "5f18c84f-4ace-4f1a-9989-3a6e756a700b",
   "metadata": {},
   "outputs": [],
   "source": []
  }
 ],
 "metadata": {
  "kernelspec": {
   "display_name": "Python 3 (ipykernel)",
   "language": "python",
   "name": "python3"
  },
  "language_info": {
   "codemirror_mode": {
    "name": "ipython",
    "version": 3
   },
   "file_extension": ".py",
   "mimetype": "text/x-python",
   "name": "python",
   "nbconvert_exporter": "python",
   "pygments_lexer": "ipython3",
   "version": "3.12.4"
  }
 },
 "nbformat": 4,
 "nbformat_minor": 5
}
