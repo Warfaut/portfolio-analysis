{
 "cells": [
  {
   "cell_type": "code",
   "execution_count": 13,
   "id": "64dacb8d-3edd-43df-8414-03080dce4ecc",
   "metadata": {},
   "outputs": [],
   "source": [
    "import pytest\n",
    "import pandas as pd\n",
    "import numpy as np\n",
    "import sys\n",
    "import os\n",
    "\n",
    "sys.path.append(os.path.abspath(os.path.join('..')))\n",
    "\n",
    "from portfolio_analysis import load_and_prepare_data, plot_portfolio_distribution\n",
    "\n",
    "def test_load_and_prepare_data():\n",
    "    df, portfolio_value, portfolio_returns_clipped = load_and_prepare_data('portfolio_data.db')\n",
    "\n",
    "    assert not df.empty\n",
    "    assert not portfolio_value.empty\n",
    "    assert not portfolio_returns_clipped.empty\n",
    "\n",
    "def test_plot_portfolio_distribution():\n",
    "    # Создаем фейковые доходности для теста\n",
    "    fake_returns = pd.Series(np.random.normal(0, 0.01, 1000)).clip(-1, 3)\n",
    "    try:\n",
    "        plot_portfolio_distribution(fake_returns)\n",
    "    except Exception as e:\n",
    "        pytest.fail(f\"plot_portfolio_distribution вызвала исключение: {e}\")"
   ]
  },
  {
   "cell_type": "code",
   "execution_count": 15,
   "id": "8cc34b97-6565-4998-8fb2-be06b7acb04e",
   "metadata": {},
   "outputs": [],
   "source": [
    "import sys\n",
    "import os\n",
    "sys.path.append('/Users/egorzubkov/Desktop/portfolio-analysis')\n",
    "\n",
    "from bond_utils import load_bond_data, calc_all_ytm  # импорт твоих функций\n",
    "\n",
    "def main(args=None):\n",
    "    parser = argparse.ArgumentParser(description=\"Portfolio Analysis CLI\")\n",
    "    parser.add_argument(\n",
    "        \"command\",\n",
    "        choices=[\"analyze-portfolio\", \"plot-distribution\", \"analyze-bonds\"],  # добавил новую команду\n",
    "        help=\"Команда для запуска анализа или построения графика\"\n",
    "    )\n",
    "\n",
    "    if args is None:\n",
    "        args = sys.argv[1:]\n",
    "    args = parser.parse_args(args)\n",
    "\n",
    "    if args.command == \"analyze-portfolio\":\n",
    "        # твой код анализа портфеля\n",
    "        ...\n",
    "\n",
    "    elif args.command == \"plot-distribution\":\n",
    "        # твой код для графика\n",
    "        ...\n",
    "\n",
    "    elif args.command == \"analyze-bonds\":\n",
    "        df_securities = load_bond_data()\n",
    "        calc_date = \"2024-07-01\"\n",
    "        bond_df = calc_all_ytm(df_securities, calc_date)\n",
    "        print(bond_df[['ticker', 'price', 'face_value', 'ytm']])"
   ]
  },
  {
   "cell_type": "code",
   "execution_count": null,
   "id": "64ff5f13-1c0b-4d89-9a0d-cb2795043c94",
   "metadata": {},
   "outputs": [],
   "source": []
  }
 ],
 "metadata": {
  "kernelspec": {
   "display_name": "Python 3 (ipykernel)",
   "language": "python",
   "name": "python3"
  },
  "language_info": {
   "codemirror_mode": {
    "name": "ipython",
    "version": 3
   },
   "file_extension": ".py",
   "mimetype": "text/x-python",
   "name": "python",
   "nbconvert_exporter": "python",
   "pygments_lexer": "ipython3",
   "version": "3.12.4"
  }
 },
 "nbformat": 4,
 "nbformat_minor": 5
}
